{
  "nbformat": 4,
  "nbformat_minor": 0,
  "metadata": {
    "colab": {
      "provenance": [],
      "authorship_tag": "ABX9TyPp0cuZoq6ziliReW2Cv80S",
      "include_colab_link": true
    },
    "kernelspec": {
      "name": "python3",
      "display_name": "Python 3"
    },
    "language_info": {
      "name": "python"
    }
  },
  "cells": [
    {
      "cell_type": "markdown",
      "metadata": {
        "id": "view-in-github",
        "colab_type": "text"
      },
      "source": [
        "<a href=\"https://colab.research.google.com/github/rbuiz/text_to_sound/blob/main/%D1%83%D1%80%D0%BE%D0%BA_3_7_%D1%83%D1%80%D0%BE%D0%BA.ipynb\" target=\"_parent\"><img src=\"https://colab.research.google.com/assets/colab-badge.svg\" alt=\"Open In Colab\"/></a>"
      ]
    },
    {
      "cell_type": "markdown",
      "source": [
        "# 1. Подключение библиотек."
      ],
      "metadata": {
        "id": "CY3GUX5uMM_d"
      }
    },
    {
      "cell_type": "code",
      "source": [
        "from gtts import gTTS\n",
        "from playsound import playsound\n",
        "import os"
      ],
      "metadata": {
        "id": "KfiOVnQwMR80",
        "colab": {
          "base_uri": "https://localhost:8080/"
        },
        "outputId": "707b7008-05bc-41cf-d8e3-c07d2ab78e17"
      },
      "execution_count": null,
      "outputs": [
        {
          "output_type": "stream",
          "name": "stderr",
          "text": [
            "WARNING:playsound:playsound is relying on another python subprocess. Please use `pip install pygobject` if you want playsound to run more efficiently.\n"
          ]
        }
      ]
    },
    {
      "cell_type": "markdown",
      "source": [
        "# 2. Текст в голос."
      ],
      "metadata": {
        "id": "ONGXvTNBMpDl"
      }
    },
    {
      "cell_type": "markdown",
      "source": [
        "## 2.1. Функция для преобразования."
      ],
      "metadata": {
        "id": "XYmKBu9LM47o"
      }
    },
    {
      "cell_type": "code",
      "source": [
        "def text_to_speech(text, lang='ru'):\n",
        "  \"\"\"\n",
        "  Преобразует текст в аудио и воспроизводит его.\n",
        "\n",
        "  :param text: Текст для синтеза речи.\n",
        "  :param lang: Код языка (по умолчанию 'ru' для русского).\n",
        "  \"\"\"\n",
        "  try:\n",
        "    # Создаём объект gTTS\n",
        "    tts = gTTS(text=text, lang=lang)\n",
        "\n",
        "    filename = \"output1.mp3\"\n",
        "    tts.save(filename)\n",
        "    print(\"Аудиофайл сохранён как 'output.mp3'\")\n",
        "\n",
        "    # Воспроизводим аудиофайл\n",
        "    playsound(filename)\n",
        "\n",
        "    # Удаляем файл после воспроизведения (опционально)\n",
        "    os.remove(filename)\n",
        "\n",
        "  except Exception as e:\n",
        "    print(f\"Произошла ошибка: {e}\")"
      ],
      "metadata": {
        "id": "6T--AxUINYrq"
      },
      "execution_count": null,
      "outputs": []
    },
    {
      "cell_type": "markdown",
      "source": [
        "# 3. Обработка ввода."
      ],
      "metadata": {
        "id": "btQsJ1-OPZn8"
      }
    },
    {
      "cell_type": "code",
      "source": [
        "if __name__ == \"__main__\":\n",
        "    user_text = input(\"Введите текст для озвучивания: \")\n",
        "    if user_text.strip() == \"\":\n",
        "        print(\"Пустой текст не может быть озвучен.\")\n",
        "    else:\n",
        "        text_to_speech(user_text)"
      ],
      "metadata": {
        "colab": {
          "base_uri": "https://localhost:8080/"
        },
        "id": "FobxnlKkPhXV",
        "outputId": "49097c7a-0642-4f18-a9d3-8d65f640a7de"
      },
      "execution_count": null,
      "outputs": [
        {
          "output_type": "stream",
          "name": "stdout",
          "text": [
            "Введите текст для озвучивания: как утомительно в россии по утрам\n",
            "Аудиофайл сохранён как 'output.mp3'\n",
            "Произошла ошибка: Command '['/usr/bin/python3', '/usr/local/lib/python3.12/dist-packages/playsound.py', 'output1.mp3']' returned non-zero exit status 1.\n"
          ]
        }
      ]
    },
    {
      "cell_type": "code",
      "source": [
        "import gi\n",
        "try:\n",
        "    gi.require_version('Gst', '1.0')\n",
        "    from gi.repository import Gst\n",
        "    print(\"GStreamer доступен!\")\n",
        "except Exception as e:\n",
        "    print(f\"Ошибка: {e}\")"
      ],
      "metadata": {
        "colab": {
          "base_uri": "https://localhost:8080/"
        },
        "id": "8SjReiYnSYoP",
        "outputId": "ea756453-99a2-4e64-8a35-f235b0b00c9a"
      },
      "execution_count": null,
      "outputs": [
        {
          "output_type": "stream",
          "name": "stdout",
          "text": [
            "Ошибка: Namespace Gst not available\n"
          ]
        }
      ]
    },
    {
      "cell_type": "code",
      "source": [
        "!pip install pygobject"
      ],
      "metadata": {
        "colab": {
          "base_uri": "https://localhost:8080/"
        },
        "id": "cJe_tJ4lTNrn",
        "outputId": "bd82b485-8967-4c31-ce34-5ac9174bc262"
      },
      "execution_count": null,
      "outputs": [
        {
          "output_type": "stream",
          "name": "stdout",
          "text": [
            "Requirement already satisfied: pygobject in /usr/local/lib/python3.12/dist-packages (3.42.0)\n",
            "Requirement already satisfied: pycairo>=1.16.0 in /usr/local/lib/python3.12/dist-packages (from pygobject) (1.28.0)\n"
          ]
        }
      ]
    }
  ]
}